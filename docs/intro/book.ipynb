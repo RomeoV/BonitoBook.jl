{
    "cells": [
        {
            "cell_type": "markdown",
            "source": [
                "# BonitoBook Overview\n",
                "\n",
                "BonitoBook is a Julia-native interactive notebook system built on Bonito.jl that combines multi-language execution, AI integration, and modern web-based editing.\n",
                "\n",
                "# Runs everywhere\n",
                "\n",
                "  * VSCode Plot Pane\n",
                "  * Browser\n",
                "  * Server deployments\n",
                "  * HTML displays (Documenter, Pluto)\n",
                "  * Electron applications\n",
                "  * JuliaHub\n",
                "  * Google Colab\n",
                "\n",
                "# Best Makie integration\n",
                ""
            ],
            "metadata": {
            }
        },
        {
            "outputs": [
            ],
            "cell_type": "code",
            "source": [
                "# Create sliders for different parameters\n",
                "time_slider = Components.Slider(1:360; value=1)\n",
                "spiral_factor = Components.Slider(1:50; value=20)\n",
                "explosion = Components.Slider(1:100; value=50)\n",
                "markersize = Components.Slider(1:100; value=30)\n",
                "\n",
                "# Generate initial 3D galaxy data\n",
                "n_points = 200\n",
                "angles = LinRange(0, 4π, n_points)\n",
                "radii = sqrt.(LinRange(0.1, 1, n_points)) * 8\n",
                "spiral_angles = angles .+ radii * 0.3\n",
                "\n",
                "initial_points = Point3f[]\n",
                "for i in 1:n_points\n",
                "    x = radii[i] * cos(spiral_angles[i]) + randn() * 0.3\n",
                "    y = radii[i] * sin(spiral_angles[i]) + randn() * 0.3\n",
                "    z = randn() * 2\n",
                "    push!(initial_points, Point3f(x, y, z))\n",
                "end\n",
                "\n",
                "# Create figure and scatter plot\n",
                "fig = Figure(backgroundcolor=:black)\n",
                "ax = LScene(fig[1, 1]; show_axis=false)\n",
                "splot = scatter!(ax, initial_points; color=first.(initial_points), markersize=15, transparency=true)\n",
                "\n",
                "# JavaScript following YOUR EXACT PATTERN\n",
                "jss = js\"\"\"\n",
                "console.log(\"Initializing Galaxy...\");\n",
                "\n",
                "$(splot).then(plots=>{\n",
                "    const scatter_plot = plots[0];\n",
                "    const plot = scatter_plot.plot_object;\n",
                "    const pos_buff = scatter_plot.geometry.attributes.positions_transformed_f32c.array;\n",
                "    const initial_pos = [...pos_buff];\n",
                "    console.log(\"Initial positions:\", initial_pos.length);\n",
                "\n",
                "    // Function to generate galaxy positions\n",
                "    function generateGalaxy(timeVal, spiralVal, explosionVal) {\n",
                "        const newPos = [];\n",
                "        const numPoints = initial_pos.length / 3;\n",
                "\n",
                "        for (let i = 0; i < numPoints; i++) {\n",
                "            const idx = i * 3;\n",
                "            const x = initial_pos[idx];\n",
                "            const y = initial_pos[idx + 1];\n",
                "            const z = initial_pos[idx + 2];\n",
                "\n",
                "            // Apply time rotation\n",
                "            const angle = Math.atan2(y, x) + timeVal * 0.02;\n",
                "            const radius = Math.sqrt(x*x + y*y);\n",
                "\n",
                "            // Apply spiral effect\n",
                "            const spiralAngle = angle + radius * spiralVal * 0.05;\n",
                "\n",
                "            // Apply explosion\n",
                "            const scale = explosionVal / 50;\n",
                "\n",
                "            newPos.push(\n",
                "                radius * Math.cos(spiralAngle) * scale,\n",
                "                radius * Math.sin(spiralAngle) * scale,\n",
                "                z * scale\n",
                "            );\n",
                "        }\n",
                "        return newPos;\n",
                "    }\n",
                "\n",
                "    // Update positions based on time slider\n",
                "    $(time_slider.value).on(time_val => {\n",
                "        console.log(\"Time:\", time_val);\n",
                "        const spiral = $(spiral_factor.value).value;\n",
                "        const explosion = $(explosion.value).value;\n",
                "        const newPos = generateGalaxy(time_val, spiral, explosion);\n",
                "        plot.update([['positions_transformed_f32c', newPos]]);\n",
                "    });\n",
                "\n",
                "    // Update positions based on spiral slider\n",
                "    $(spiral_factor.value).on(spiral_val => {\n",
                "        console.log(\"Spiral:\", spiral_val);\n",
                "        const time = $(time_slider.value).value;\n",
                "        const explosion = $(explosion.value).value;\n",
                "        const newPos = generateGalaxy(time, spiral_val, explosion);\n",
                "        plot.update([['positions_transformed_f32c', newPos]]);\n",
                "    });\n",
                "\n",
                "    // Update positions based on explosion slider\n",
                "    $(explosion.value).on(explosion_val => {\n",
                "        console.log(\"Explosion:\", explosion_val);\n",
                "        const time = $(time_slider.value).value;\n",
                "        const spiral = $(spiral_factor.value).value;\n",
                "        const newPos = generateGalaxy(time, spiral, explosion_val);\n",
                "        plot.update([['positions_transformed_f32c', newPos]]);\n",
                "    });\n",
                "\n",
                "    // Update marker size\n",
                "    $(markersize.value).on(size => {\n",
                "        console.log(\"Size:\", size);\n",
                "        plot.update([['quad_scale', [size, size]], ['quad_offset', [-size/2, -size/2]]]);\n",
                "    });\n",
                "\n",
                "\n",
                "});\n",
                "\"\"\"\n",
                "\n",
                "# Layout\n",
                "DOM.div(\n",
                "\n",
                "    DOM.h3(\"🌌 3D Galaxy Explorer\", style=\"text-align: center; color: white; margin: 10px;\"),\n",
                "    DOM.div(\n",
                "        style=\"display: flex; gap: 20px; align-items: center; justify-content: center; padding: 15px; background: #1a1a2e; border-radius: 10px; margin: 10px;\",\n",
                "        DOM.div([DOM.label(\"Time: \", style=\"color: white; margin-right: 5px;\"), time_slider]),\n",
                "        DOM.div([DOM.label(\"Spiral: \", style=\"color: white; margin-right: 5px;\"), spiral_factor]),\n",
                "        DOM.div([DOM.label(\"Explosion: \", style=\"color: white; margin-right: 5px;\"), explosion]),\n",
                "        DOM.div([DOM.label(\"Size: \", style=\"color: white; margin-right: 5px;\"), markersize])\n",
                "    ),\n",
                "    fig,\n",
                "    jss,\n",
                ")"
            ],
            "metadata": {
                "bonitobook": {
                    "show_output": true,
                    "show_editor": true
                }
            },
            "execution_count": null
        },
        {
            "cell_type": "markdown",
            "source": [
                "# Julia native\n",
                "\n",
                "## All components written in Julia\n",
                "\n",
                "BonitoBook is built entirely in Julia using Bonito.jl, providing native performance and seamless integration with the Julia ecosystem.\n",
                "\n",
                "## Supports Julia commands\n",
                "\n",
                "```julia\n",
                "]add DataFrames CSV # Package management\n",
                "?println # Documentation lookup\n",
                ";ls -la # Shell commands\n",
                "```\n",
                "\n",
                "# Ecosystem of Components vs Notebook\n",
                "\n",
                "## Easy to create new components in Julia\n",
                ""
            ],
            "metadata": {
            }
        },
        {
            "outputs": [
            ],
            "cell_type": "code",
            "source": [
                "struct MyCheckbox\n",
                "    value::Observable{Bool}\n",
                "end\n",
                "\n",
                "function Bonito.jsrender(session::Session, checkbox::MyCheckbox)\n",
                "    return Bonito.jsrender(\n",
                "        session,\n",
                "        DOM.input(;\n",
                "            type=\"checkbox\",\n",
                "            checked=checkbox.value,\n",
                "            onchange=js\"event=> $(checkbox.value).notify(event.srcElement.checked);\",\n",
                "        ),\n",
                "    )\n",
                "end\n",
                "MyCheckbox(true)"
            ],
            "metadata": {
                "bonitobook": {
                    "show_output": true,
                    "show_editor": true
                }
            },
            "execution_count": null
        },
        {
            "cell_type": "markdown",
            "source": [
                "## All components work standalone and can be reused\n",
                ""
            ],
            "metadata": {
            }
        },
        {
            "outputs": [
            ],
            "cell_type": "code",
            "source": [
                "using BonitoBook\n",
                "BonitoBook.EvalEditor(\"println(\\\"Hello World\\\")\\n1+1\")"
            ],
            "metadata": {
                "bonitobook": {
                    "show_output": true,
                    "show_editor": true
                }
            },
            "execution_count": null
        },
        {
            "cell_type": "markdown",
            "source": [
                "## Simple to create new book types with different layouts\n",
                ""
            ],
            "metadata": {
            }
        },
        {
            "outputs": [
            ],
            "cell_type": "code",
            "source": [
                "# Properly Centered Row Example\n",
                "using BonitoBook\n",
                "using WGLMakie  # for Row\n",
                "\n",
                "style = Styles(\n",
                "    CSS(\".small-vertical .cell-editor-container\",\n",
                "        \"width\" => \"200px\",\n",
                "        \"min-width\" => \"0px\"\n",
                "    ),\n",
                "    CSS(\".small-vertical .cell-editor\", \"width\" => \"200px\"),\n",
                "    CSS(\".small-vertical\",\n",
                "        \"margin-top\" => \"20px\",\n",
                "        \"margin-bottom\" => \"20px\",\n",
                "    )\n",
                ")\n",
                "\n",
                "# Create the properly centered Row\n",
                "DOM.div(\n",
                "    style,\n",
                "    Centered(Row(\n",
                "        BonitoBook.CellEditor(\"1+1\", \"julia\", nothing),\n",
                "        BonitoBook.CellEditor(\"1+2\", \"julia\", nothing),\n",
                "        width=\"fit-content\",\n",
                "        gap=\"50px\"\n",
                "    ));\n",
                "    class=\"small-vertical\"\n",
                ")"
            ],
            "metadata": {
                "bonitobook": {
                    "show_output": true,
                    "show_editor": true
                }
            },
            "execution_count": null
        },
        {
            "cell_type": "markdown",
            "source": [
                "## Full composability with existing Bonito apps\n",
                "\n",
                "## Default components\n",
                "\n",
                "### BonitoBook.Components\n",
                ""
            ],
            "metadata": {
            }
        },
        {
            "outputs": [
            ],
            "cell_type": "code",
            "source": [
                "# Create one of each component type\n",
                "button = Components.Button(\"Submit\")\n",
                "slider = Components.Slider(1:100, value=50)\n",
                "checkbox = Components.Checkbox(true)\n",
                "dropdown = Components.Dropdown([\"Option 1\", \"Option 2\", \"Option 3\"], value=\"Option 2\")\n",
                "number_input = Components.NumberInput(42.0)\n",
                "\n",
                "# Create clean layout with proper Styles\n",
                "DOM.div(\n",
                "    style=Styles(\"max-width\" => \"600px\", \"margin\" => \"20px auto\", \"padding\" => \"20px\"),\n",
                "    DOM.div(\n",
                "        DOM.h3(\"Button\"),\n",
                "        button,\n",
                "        style=Styles(\"margin-bottom\" => \"20px\")\n",
                "    ),\n",
                "    DOM.div(\n",
                "        DOM.h3(\"Slider\"),\n",
                "        DOM.p(\"Range: 1-100, Value: 50\"),\n",
                "        slider,\n",
                "        style=Styles(\"margin-bottom\" => \"20px\")\n",
                "    ),\n",
                "    DOM.div(\n",
                "        DOM.h3(\"Checkbox\"),\n",
                "        DOM.div(checkbox, \" Enabled\", style=Styles(\"display\" => \"flex\", \"align-items\" => \"center\")),\n",
                "        style=Styles(\"margin-bottom\" => \"20px\")\n",
                "    ),\n",
                "    DOM.div(\n",
                "        DOM.h3(\"Dropdown\"),\n",
                "        dropdown,\n",
                "        style=Styles(\"margin-bottom\" => \"20px\")\n",
                "    ),\n",
                "    DOM.div(\n",
                "        DOM.h3(\"Number Input\"),\n",
                "        number_input,\n",
                "        style=Styles(\"margin-bottom\" => \"20px\")\n",
                "    )\n",
                ")\n",
                ""
            ],
            "metadata": {
                "bonitobook": {
                    "show_output": true,
                    "show_editor": true
                }
            },
            "execution_count": null
        },
        {
            "cell_type": "markdown",
            "source": [
                "## Bonito widgets\n",
                "\n",
                "Bonito widgets are great, but don't nicely interact with the BonitoBook theme:\n",
                ""
            ],
            "metadata": {
            }
        },
        {
            "outputs": [
            ],
            "cell_type": "code",
            "source": [
                "# Create one of each component type\n",
                "button = Bonito.Button(\"Submit\")\n",
                "slider = Bonito.Slider(1:100, value=50)\n",
                "checkbox = Bonito.Checkbox(true)\n",
                "dropdown = Bonito.Dropdown([\"Option 1\", \"Option 2\", \"Option 3\"], value=\"Option 2\")\n",
                "number_input = Bonito.NumberInput(42.0)\n",
                "\n",
                "# Create clean layout with proper Styles\n",
                "DOM.div(\n",
                "    style=Styles(\"max-width\" => \"600px\", \"margin\" => \"20px auto\", \"padding\" => \"20px\"),\n",
                "    DOM.div(\n",
                "        DOM.h3(\"Button\"),\n",
                "        button,\n",
                "        style=Styles(\"margin-bottom\" => \"20px\")\n",
                "    ),\n",
                "    DOM.div(\n",
                "        DOM.h3(\"Slider\"),\n",
                "        DOM.p(\"Range: 1-100, Value: 50\"),\n",
                "        slider,\n",
                "        style=Styles(\"margin-bottom\" => \"20px\")\n",
                "    ),\n",
                "    DOM.div(\n",
                "        DOM.h3(\"Checkbox\"),\n",
                "        DOM.div(checkbox, \" Enabled\", style=Styles(\"display\" => \"flex\", \"align-items\" => \"center\")),\n",
                "        style=Styles(\"margin-bottom\" => \"20px\")\n",
                "    ),\n",
                "    DOM.div(\n",
                "        DOM.h3(\"Dropdown\"),\n",
                "        dropdown,\n",
                "        style=Styles(\"margin-bottom\" => \"20px\")\n",
                "    ),\n",
                "    DOM.div(\n",
                "        DOM.h3(\"Number Input\"),\n",
                "        number_input,\n",
                "        style=Styles(\"margin-bottom\" => \"20px\")\n",
                "    )\n",
                ")\n",
                ""
            ],
            "metadata": {
                "bonitobook": {
                    "show_output": true,
                    "show_editor": true
                }
            },
            "execution_count": null
        },
        {
            "cell_type": "markdown",
            "source": [
                "### @manipulate\n",
                ""
            ],
            "metadata": {
            }
        },
        {
            "outputs": [
            ],
            "cell_type": "code",
            "source": [
                "import Makie.SpecApi as S\n",
                "funcs = (sqrt=sqrt, x_square=x->x^2, sin=sin, cos=cos)\n",
                "colormaps = [\"viridis\", \"heat\", \"blues\"]\n",
                "types = (scatter=S.Scatter, lines=S.Lines, linesegments=S.LineSegments)\n",
                "sizes=10:0.1:100\n",
                "checkbox = (true, false)\n",
                "@manipulate for cmap=colormaps, func=funcs, Typ=types, size=sizes, show_legend=checkbox\n",
                "    x = 0:0.3:10\n",
                "    s = Typ == S.Scatter ? (; markersize=size) : (; linewidth=size)\n",
                "    splot = Typ(x, func.(x); colormap=cmap, color=x, s...)\n",
                "    ax = S.Axis(; plots=[splot])\n",
                "    if show_legend\n",
                "        cbar = S.Colorbar(splot)\n",
                "        S.GridLayout([ax cbar])\n",
                "    else\n",
                "        S.GridLayout([ax])\n",
                "    end\n",
                "end"
            ],
            "metadata": {
                "bonitobook": {
                    "show_output": true,
                    "show_editor": true
                }
            },
            "execution_count": null
        },
        {
            "cell_type": "markdown",
            "source": [
                "### LaTeX support\n",
                "\n",
                "```latex\n",
                "$$\\int_{-\\infty}^{\\infty} e^{-x^2} dx = \\sqrt{\\pi}$$\n",
                "\n",
                "$$\\mathbf{A} = \\begin{pmatrix}\n",
                "a_{11} & a_{12} \\\\\n",
                "a_{21} & a_{22}\n",
                "\\end{pmatrix}$$\n",
                "```\n",
                "\n",
                "# Python integration\n",
                "\n",
                "## Package management\n",
                ""
            ],
            "metadata": {
            }
        },
        {
            "outputs": [
            ],
            "cell_type": "code",
            "source": [
                "]add numpy matplotlib pandas"
            ],
            "metadata": {
                "bonitobook": {
                    "show_output": true,
                    "show_editor": true
                }
            },
            "execution_count": null
        },
        {
            "cell_type": "markdown",
            "source": [
                "## Shared namespace\n",
                ""
            ],
            "metadata": {
            }
        },
        {
            "outputs": [
            ],
            "cell_type": "code",
            "source": [
                "import numpy as np\n",
                "data = np.random.randn(1000, 2)\n",
                "labels = [\"x\", \"y\"]"
            ],
            "metadata": {
                "bonitobook": {
                    "show_output": true,
                    "show_editor": true
                }
            },
            "execution_count": null
        },
        {
            "outputs": [
            ],
            "cell_type": "code",
            "source": [
                "using WGLMakie\n",
                "# Access Python variables directly in Julia\n",
                "scatter(data[:, 1], data[:, 2], axis=(xlabel=labels[1], ylabel=labels[2]))"
            ],
            "metadata": {
                "bonitobook": {
                    "show_output": true,
                    "show_editor": true
                }
            },
            "execution_count": null
        },
        {
            "cell_type": "markdown",
            "source": [
                "## Rich MIME support\n",
                ""
            ],
            "metadata": {
            }
        },
        {
            "outputs": [
            ],
            "cell_type": "code",
            "source": [
                "import matplotlib.pyplot as plt\n",
                "fig, ax = plt.subplots()\n",
                "ax.plot([1, 2, 3, 4], [1, 4, 2, 3])\n",
                "fig # Automatically displays in notebook"
            ],
            "metadata": {
                "bonitobook": {
                    "show_output": true,
                    "show_editor": true
                }
            },
            "execution_count": null
        },
        {
            "cell_type": "markdown",
            "source": [
                "## @edit support\n",
                "\n",
                "```julia\n",
                "BonitoBook.@bedit println(\"hello\") # Opens function source in editor\n",
                "```\n",
                "\n",
                "## Revise.jl integration\n",
                "\n",
                "Changes from e.g. `@edit` are automatically applied.\n",
                "\n",
                "## Style customization\n",
                "\n",
                "Edit `styles/style.jl` by pressing the paintcan icon to customize appearance:\n",
                ""
            ],
            "metadata": {
            }
        },
        {
            "outputs": [
            ],
            "cell_type": "code",
            "source": [
                "# Modify colors, fonts, layout dimensions\n",
                "light_theme = true # Force light theme\n",
                "editor_width = \"800px\" # Adjust editor width;"
            ],
            "metadata": {
                "bonitobook": {
                    "show_output": true,
                    "show_editor": true
                }
            },
            "execution_count": null
        },
        {
            "cell_type": "markdown",
            "source": [
                "# Export/import options\n",
                "\n",
                "## Import formats\n",
                "\n",
                "### Jupyter notebooks (.ipynb)\n",
                "\n",
                "### Markdown files (.md)\n",
                "\n",
                "## Export formats\n",
                "\n",
                "### HTML export\n",
                "\n",
                "### Markdown export\n",
                "\n",
                "### Julia script export\n",
                "\n",
                "## Folder structure\n",
                "\n",
                "Each book creates a structured project:\n",
                "\n",
                "```\n",
                "mybook/\n",
                "├── Project.toml         # Julia dependencies\n",
                "├── Manifest.toml        # Dependency lock file\n",
                "├── book.md              # Main content\n",
                "├── styles/style.jl      # Custom styling\n",
                "├── ai/\n",
                "│   ├── config.toml      # AI configuration\n",
                "│   └── system-prompt.md # Custom AI prompt\n",
                "├── data/               # Data files\n",
                "└── .versions/          # Automatic backups\n",
                "```\n",
                "\n",
                "This folder can be zipped and shared with all data, settings and style. With Project.toml and Manifest being part of the format, each notebook is reproducable.\n",
                "\n",
                "# Advanced features\n",
                "\n",
                "## Multi-language cells\n",
                "\n",
                "Books support mixing Julia, Python, and Markdown cells seamlessly with shared variable namespaces.\n",
                "\n",
                "## Asynchronous execution\n",
                "\n",
                "Code runs in background threads without blocking the UI. Multiple cells can execute concurrently.\n",
                "\n",
                "## Automatic backups\n",
                "\n",
                "All changes are automatically saved to `.versions/` with timestamps for version recovery.\n",
                "\n",
                "## Responsive design\n",
                "\n",
                "UI adapts to different screen sizes and orientations. Works on desktop, tablet, and mobile browsers.\n",
                "\n",
                "## Theme system\n",
                "\n",
                "Automatic dark/light mode detection with manual override support. Consistent theming across all components.\n",
                "\n",
                "## Sidebar system\n",
                "\n",
                "Collapsible sidebars for tools, file browser, chat, and custom widgets. Configurable positioning and behavior.\n",
                "\n",
                "## Live reloading\n",
                "\n",
                "Files are watched for changes and automatically reloaded. Useful for development workflows with external editors.\n",
                ""
            ],
            "metadata": {
            }
        }
    ],
    "nbformat_minor": 5,
    "metadata": {
        "language_info": {
            "name": "python"
        },
        "kernelspec": {
            "name": "python3",
            "display_name": "Python 3",
            "language": "python"
        },
        "bonitobook": {
            "exported_from": "BonitoBook.jl"
        }
    },
    "nbformat": 4
}